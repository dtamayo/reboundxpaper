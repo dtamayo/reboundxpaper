{
 "cells": [
  {
   "cell_type": "code",
   "execution_count": 1,
   "metadata": {},
   "outputs": [],
   "source": [
    "import rebound\n",
    "import reboundx\n",
    "from celmech import Andoyer\n",
    "import numpy as np\n",
    "import sys\n",
    "import time\n",
    "%matplotlib inline\n",
    "import matplotlib.pyplot as plt\n",
    "\n",
    "from rundampresonant import damp"
   ]
  },
  {
   "cell_type": "code",
   "execution_count": 2,
   "metadata": {},
   "outputs": [],
   "source": [
    "def makesingle(taue, scheme=\"\"):\n",
    "    sim = rebound.Simulation()\n",
    "    sim.add(m=1.)\n",
    "    sim.add(m=1.e-4, a=1., e=0.01)\n",
    "    sim.move_to_com()\n",
    "    sim.integrator='whfast'\n",
    "    sim.dt = sim.particles[1].P/100.\n",
    "    if damp:\n",
    "        rebx = reboundx.Extras(sim)\n",
    "        mod = rebx.add(\"modify_orbits_forces\")\n",
    "\n",
    "        if scheme:\n",
    "            rebx.integrator=scheme\n",
    "            mod.operator_order = 2\n",
    "            mod.force_as_operator = 1\n",
    "    \n",
    "        return sim, rebx\n",
    "    else:\n",
    "        return sim\n",
    "    \n",
    "def makesim(taue, scheme=\"\", j=3, k=1, damp=True, res=True):\n",
    "    if res:\n",
    "        avars = Andoyer.from_elements(j=j, k=k, Zstar=0.1, libfac=0.2, m1=1.e-4, m2=1.e-4)\n",
    "        sim = avars.to_Simulation()\n",
    "        sim.integrator='whfast'\n",
    "        sim.dt = sim.particles[1].P/100.\n",
    "        \n",
    "        if damp:\n",
    "            rebx = reboundx.Extras(sim)\n",
    "            mod = rebx.add(\"modify_orbits_forces\")\n",
    "\n",
    "            if scheme:\n",
    "                rebx.integrator=scheme\n",
    "                mod.operator_order = 2\n",
    "                mod.force_as_operator = 1\n",
    "\n",
    "            return sim, rebx\n",
    "        else:\n",
    "            return sim\n",
    "    else:\n",
    "        return makesingle(taue, scheme)\n",
    "    \n",
    "def run(tmax, taue, scheme=\"\", dtfactor=0.01, j=3, k=1, damp=True, res=True):   \n",
    "    simWH, rebxWH = makesim(taue, scheme, j, k, damp=damp, res=res)\n",
    "    ps = simWH.particles\n",
    "    simWH.integrator=\"whfast\"\n",
    "    simWH.dt = dtfactor*ps[1].P\n",
    "    \n",
    "    Nout = 100\n",
    "    times = np.linspace(0, tmax*ps[1].P, Nout)\n",
    "    ksWH, t = np.zeros(Nout), np.zeros(Nout)\n",
    "    \n",
    "    for i, time in enumerate(times):\n",
    "        if damp:\n",
    "            for p in ps[1:]:\n",
    "                p.params['tau_e'] = -taue*ps[1].P\n",
    "            ps[1].params['tau_a'] = taue*ps[1].P*100\n",
    "        simWH.integrate(time)#, exact_finish_time=0)\n",
    "        t[i] = simWH.t\n",
    "        ksWH[i] = ps[1].e*np.cos(ps[1].pomega)\n",
    "        \n",
    "    sim, rebx = makesim(taue, '', j, k, damp=damp, res=res)\n",
    "    sim.integrator=\"ias15\"\n",
    "    ps = sim.particles\n",
    "    ks = np.zeros(Nout)\n",
    "    \n",
    "    for i, time in enumerate(t):\n",
    "        if damp:\n",
    "            for p in ps[1:]:\n",
    "                p.params['tau_e'] = -taue*ps[1].P\n",
    "            ps[1].params['tau_a'] = taue*ps[1].P*100\n",
    "        \n",
    "        sim.integrate(time)\n",
    "        ks[i] = ps[1].e*np.cos(ps[1].pomega)\n",
    "        \n",
    "    return t, ks, ksWH, times"
   ]
  },
  {
   "cell_type": "code",
   "execution_count": 3,
   "metadata": {},
   "outputs": [
    {
     "ename": "AttributeError",
     "evalue": "'Extras' object has no attribute 'add'",
     "output_type": "error",
     "traceback": [
      "\u001b[0;31m---------------------------------------------------------------------------\u001b[0m",
      "\u001b[0;31mAttributeError\u001b[0m                            Traceback (most recent call last)",
      "\u001b[0;32m<ipython-input-3-e4c5656fd13a>\u001b[0m in \u001b[0;36m<module>\u001b[0;34m()\u001b[0m\n\u001b[0;32m----> 1\u001b[0;31m \u001b[0mt\u001b[0m\u001b[0;34m,\u001b[0m \u001b[0mks\u001b[0m\u001b[0;34m,\u001b[0m \u001b[0mksWH\u001b[0m\u001b[0;34m,\u001b[0m \u001b[0mtimes\u001b[0m \u001b[0;34m=\u001b[0m \u001b[0mrun\u001b[0m\u001b[0;34m(\u001b[0m\u001b[0;36m1.\u001b[0m\u001b[0;34m,\u001b[0m \u001b[0;36m1.e4\u001b[0m\u001b[0;34m,\u001b[0m \u001b[0;34m'rk4'\u001b[0m\u001b[0;34m,\u001b[0m \u001b[0mdamp\u001b[0m\u001b[0;34m=\u001b[0m\u001b[0;32mTrue\u001b[0m\u001b[0;34m,\u001b[0m \u001b[0mres\u001b[0m\u001b[0;34m=\u001b[0m\u001b[0;32mFalse\u001b[0m\u001b[0;34m)\u001b[0m\u001b[0;34m\u001b[0m\u001b[0;34m\u001b[0m\u001b[0m\n\u001b[0m",
      "\u001b[0;32m<ipython-input-2-d4e157538633>\u001b[0m in \u001b[0;36mrun\u001b[0;34m(tmax, taue, scheme, dtfactor, j, k, damp, res)\u001b[0m\n\u001b[1;32m     42\u001b[0m \u001b[0;34m\u001b[0m\u001b[0m\n\u001b[1;32m     43\u001b[0m \u001b[0;32mdef\u001b[0m \u001b[0mrun\u001b[0m\u001b[0;34m(\u001b[0m\u001b[0mtmax\u001b[0m\u001b[0;34m,\u001b[0m \u001b[0mtaue\u001b[0m\u001b[0;34m,\u001b[0m \u001b[0mscheme\u001b[0m\u001b[0;34m=\u001b[0m\u001b[0;34m\"\"\u001b[0m\u001b[0;34m,\u001b[0m \u001b[0mdtfactor\u001b[0m\u001b[0;34m=\u001b[0m\u001b[0;36m0.01\u001b[0m\u001b[0;34m,\u001b[0m \u001b[0mj\u001b[0m\u001b[0;34m=\u001b[0m\u001b[0;36m3\u001b[0m\u001b[0;34m,\u001b[0m \u001b[0mk\u001b[0m\u001b[0;34m=\u001b[0m\u001b[0;36m1\u001b[0m\u001b[0;34m,\u001b[0m \u001b[0mdamp\u001b[0m\u001b[0;34m=\u001b[0m\u001b[0;32mTrue\u001b[0m\u001b[0;34m,\u001b[0m \u001b[0mres\u001b[0m\u001b[0;34m=\u001b[0m\u001b[0;32mTrue\u001b[0m\u001b[0;34m)\u001b[0m\u001b[0;34m:\u001b[0m\u001b[0;34m\u001b[0m\u001b[0;34m\u001b[0m\u001b[0m\n\u001b[0;32m---> 44\u001b[0;31m     \u001b[0msimWH\u001b[0m\u001b[0;34m,\u001b[0m \u001b[0mrebxWH\u001b[0m \u001b[0;34m=\u001b[0m \u001b[0mmakesim\u001b[0m\u001b[0;34m(\u001b[0m\u001b[0mtaue\u001b[0m\u001b[0;34m,\u001b[0m \u001b[0mscheme\u001b[0m\u001b[0;34m,\u001b[0m \u001b[0mj\u001b[0m\u001b[0;34m,\u001b[0m \u001b[0mk\u001b[0m\u001b[0;34m,\u001b[0m \u001b[0mdamp\u001b[0m\u001b[0;34m=\u001b[0m\u001b[0mdamp\u001b[0m\u001b[0;34m,\u001b[0m \u001b[0mres\u001b[0m\u001b[0;34m=\u001b[0m\u001b[0mres\u001b[0m\u001b[0;34m)\u001b[0m\u001b[0;34m\u001b[0m\u001b[0;34m\u001b[0m\u001b[0m\n\u001b[0m\u001b[1;32m     45\u001b[0m     \u001b[0mps\u001b[0m \u001b[0;34m=\u001b[0m \u001b[0msimWH\u001b[0m\u001b[0;34m.\u001b[0m\u001b[0mparticles\u001b[0m\u001b[0;34m\u001b[0m\u001b[0;34m\u001b[0m\u001b[0m\n\u001b[1;32m     46\u001b[0m     \u001b[0msimWH\u001b[0m\u001b[0;34m.\u001b[0m\u001b[0mintegrator\u001b[0m\u001b[0;34m=\u001b[0m\u001b[0;34m\"whfast\"\u001b[0m\u001b[0;34m\u001b[0m\u001b[0;34m\u001b[0m\u001b[0m\n",
      "\u001b[0;32m<ipython-input-2-d4e157538633>\u001b[0m in \u001b[0;36mmakesim\u001b[0;34m(taue, scheme, j, k, damp, res)\u001b[0m\n\u001b[1;32m     39\u001b[0m             \u001b[0;32mreturn\u001b[0m \u001b[0msim\u001b[0m\u001b[0;34m\u001b[0m\u001b[0;34m\u001b[0m\u001b[0m\n\u001b[1;32m     40\u001b[0m     \u001b[0;32melse\u001b[0m\u001b[0;34m:\u001b[0m\u001b[0;34m\u001b[0m\u001b[0;34m\u001b[0m\u001b[0m\n\u001b[0;32m---> 41\u001b[0;31m         \u001b[0;32mreturn\u001b[0m \u001b[0mmakesingle\u001b[0m\u001b[0;34m(\u001b[0m\u001b[0mtaue\u001b[0m\u001b[0;34m,\u001b[0m \u001b[0mscheme\u001b[0m\u001b[0;34m)\u001b[0m\u001b[0;34m\u001b[0m\u001b[0;34m\u001b[0m\u001b[0m\n\u001b[0m\u001b[1;32m     42\u001b[0m \u001b[0;34m\u001b[0m\u001b[0m\n\u001b[1;32m     43\u001b[0m \u001b[0;32mdef\u001b[0m \u001b[0mrun\u001b[0m\u001b[0;34m(\u001b[0m\u001b[0mtmax\u001b[0m\u001b[0;34m,\u001b[0m \u001b[0mtaue\u001b[0m\u001b[0;34m,\u001b[0m \u001b[0mscheme\u001b[0m\u001b[0;34m=\u001b[0m\u001b[0;34m\"\"\u001b[0m\u001b[0;34m,\u001b[0m \u001b[0mdtfactor\u001b[0m\u001b[0;34m=\u001b[0m\u001b[0;36m0.01\u001b[0m\u001b[0;34m,\u001b[0m \u001b[0mj\u001b[0m\u001b[0;34m=\u001b[0m\u001b[0;36m3\u001b[0m\u001b[0;34m,\u001b[0m \u001b[0mk\u001b[0m\u001b[0;34m=\u001b[0m\u001b[0;36m1\u001b[0m\u001b[0;34m,\u001b[0m \u001b[0mdamp\u001b[0m\u001b[0;34m=\u001b[0m\u001b[0;32mTrue\u001b[0m\u001b[0;34m,\u001b[0m \u001b[0mres\u001b[0m\u001b[0;34m=\u001b[0m\u001b[0;32mTrue\u001b[0m\u001b[0;34m)\u001b[0m\u001b[0;34m:\u001b[0m\u001b[0;34m\u001b[0m\u001b[0;34m\u001b[0m\u001b[0m\n",
      "\u001b[0;32m<ipython-input-2-d4e157538633>\u001b[0m in \u001b[0;36mmakesingle\u001b[0;34m(taue, scheme)\u001b[0m\n\u001b[1;32m      8\u001b[0m     \u001b[0;32mif\u001b[0m \u001b[0mdamp\u001b[0m\u001b[0;34m:\u001b[0m\u001b[0;34m\u001b[0m\u001b[0;34m\u001b[0m\u001b[0m\n\u001b[1;32m      9\u001b[0m         \u001b[0mrebx\u001b[0m \u001b[0;34m=\u001b[0m \u001b[0mreboundx\u001b[0m\u001b[0;34m.\u001b[0m\u001b[0mExtras\u001b[0m\u001b[0;34m(\u001b[0m\u001b[0msim\u001b[0m\u001b[0;34m)\u001b[0m\u001b[0;34m\u001b[0m\u001b[0;34m\u001b[0m\u001b[0m\n\u001b[0;32m---> 10\u001b[0;31m         \u001b[0mmod\u001b[0m \u001b[0;34m=\u001b[0m \u001b[0mrebx\u001b[0m\u001b[0;34m.\u001b[0m\u001b[0madd\u001b[0m\u001b[0;34m(\u001b[0m\u001b[0;34m\"modify_orbits_forces\"\u001b[0m\u001b[0;34m)\u001b[0m\u001b[0;34m\u001b[0m\u001b[0;34m\u001b[0m\u001b[0m\n\u001b[0m\u001b[1;32m     11\u001b[0m \u001b[0;34m\u001b[0m\u001b[0m\n\u001b[1;32m     12\u001b[0m         \u001b[0;32mif\u001b[0m \u001b[0mscheme\u001b[0m\u001b[0;34m:\u001b[0m\u001b[0;34m\u001b[0m\u001b[0;34m\u001b[0m\u001b[0m\n",
      "\u001b[0;31mAttributeError\u001b[0m: 'Extras' object has no attribute 'add'"
     ]
    }
   ],
   "source": [
    "t, ks, ksWH, times = run(1., 1.e4, 'rk4', damp=True, res=False)"
   ]
  },
  {
   "cell_type": "code",
   "execution_count": 20,
   "metadata": {},
   "outputs": [
    {
     "data": {
      "text/plain": [
       "0.9999500037496879"
      ]
     },
     "execution_count": 20,
     "metadata": {},
     "output_type": "execute_result"
    }
   ],
   "source": [
    "t[-1]/2./np.pi"
   ]
  },
  {
   "cell_type": "code",
   "execution_count": 21,
   "metadata": {},
   "outputs": [
    {
     "data": {
      "text/plain": [
       "Text(0.5, 1.0, 'Absolute $\\\\varpi err$')"
      ]
     },
     "execution_count": 21,
     "metadata": {},
     "output_type": "execute_result"
    },
    {
     "data": {
      "image/png": "[encoded data removed]",
      "text/plain": [
       "<Figure size 432x432 with 1 Axes>"
      ]
     },
     "metadata": {
      "needs_background": "light"
     },
     "output_type": "display_data"
    }
   ],
   "source": [
    "try:\n",
    "    plt.style.use('paper')\n",
    "except:\n",
    "    print(\"style not found\")\n",
    "\n",
    "fig, ax = plt.subplots()\n",
    "plt.rcParams[\"text.usetex\"] =True\n",
    "plt.ticklabel_format(style='sci', axis='both', scilimits=(0,0))\n",
    "\n",
    "ax.plot(t/2/np.pi, ks-ksWH)\n",
    "ax.plot(t/2/np.pi, [0]*len(t))\n",
    "ax.set_xlabel('Time (orbits)')\n",
    "ax.set_ylabel(r'$\\Delta \\varpi_{err}$')\n",
    "ax.set_title(r'Absolute $\\varpi err$')"
   ]
  },
  {
   "cell_type": "code",
   "execution_count": 7,
   "metadata": {},
   "outputs": [
    {
     "data": {
      "text/plain": [
       "1.7082998210460332e-11"
      ]
     },
     "execution_count": 7,
     "metadata": {},
     "output_type": "execute_result"
    }
   ],
   "source": [
    "(ks-ksWH)[-1]"
   ]
  },
  {
   "cell_type": "code",
   "execution_count": 34,
   "metadata": {},
   "outputs": [
    {
     "data": {
      "text/plain": [
       "array([0.        , 0.06346652, 0.12693304, 0.19039955, 0.25386607,\n",
       "       0.31733259, 0.38079911, 0.44426563, 0.50773215, 0.57119866,\n",
       "       0.63466518, 0.6981317 , 0.76159822, 0.82506474, 0.88853126,\n",
       "       0.95199777, 1.01546429, 1.07893081, 1.14239733, 1.20586385,\n",
       "       1.26933037, 1.33279688, 1.3962634 , 1.45972992, 1.52319644,\n",
       "       1.58666296, 1.65012947, 1.71359599, 1.77706251, 1.84052903,\n",
       "       1.90399555, 1.96746207, 2.03092858, 2.0943951 , 2.15786162,\n",
       "       2.22132814, 2.28479466, 2.34826118, 2.41172769, 2.47519421,\n",
       "       2.53866073, 2.60212725, 2.66559377, 2.72906028, 2.7925268 ,\n",
       "       2.85599332, 2.91945984, 2.98292636, 3.04639288, 3.10985939,\n",
       "       3.17332591, 3.23679243, 3.30025895, 3.36372547, 3.42719199,\n",
       "       3.4906585 , 3.55412502, 3.61759154, 3.68105806, 3.74452458,\n",
       "       3.8079911 , 3.87145761, 3.93492413, 3.99839065, 4.06185717,\n",
       "       4.12532369, 4.1887902 , 4.25225672, 4.31572324, 4.37918976,\n",
       "       4.44265628, 4.5061228 , 4.56958931, 4.63305583, 4.69652235,\n",
       "       4.75998887, 4.82345539, 4.88692191, 4.95038842, 5.01385494,\n",
       "       5.07732146, 5.14078798, 5.2042545 , 5.26772102, 5.33118753,\n",
       "       5.39465405, 5.45812057, 5.52158709, 5.58505361, 5.64852012,\n",
       "       5.71198664, 5.77545316, 5.83891968, 5.9023862 , 5.96585272,\n",
       "       6.02931923, 6.09278575, 6.15625227, 6.21971879, 6.28318531])"
      ]
     },
     "execution_count": 34,
     "metadata": {},
     "output_type": "execute_result"
    }
   ],
   "source": [
    "times"
   ]
  },
  {
   "cell_type": "code",
   "execution_count": 27,
   "metadata": {},
   "outputs": [
    {
     "data": {
      "text/plain": [
       "array([ 0.        , -0.03141607, -0.03141613, -0.0314162 , -0.03141626,\n",
       "       -0.03141632, -0.03141637, -0.03141641, -0.03141644, -0.03141647,\n",
       "       -0.0314165 , -0.03141652, -0.03141654, -0.03141655, -0.03141657,\n",
       "       -0.03141657, -0.03141658, -0.03141659, -0.03141659, -0.03141659,\n",
       "       -0.0314166 , -0.0314166 , -0.0314166 , -0.03141659, -0.03141659,\n",
       "       -0.03141659, -0.03141658, -0.03141658, -0.03141658, -0.03141658,\n",
       "       -0.03141657, -0.03141657, -0.03141656, -0.03141656, -0.03141655,\n",
       "       -0.03141655, -0.03141655, -0.03141654, -0.03141654, -0.03141653,\n",
       "       -0.03141653, -0.03141652, -0.03141652, -0.03141651, -0.03141651,\n",
       "       -0.0314165 , -0.0314165 , -0.03141649, -0.03141649, -0.03141648,\n",
       "       -0.03141648, -0.03141647, -0.03141647, -0.03141646, -0.03141645,\n",
       "       -0.03141645, -0.03141644, -0.03141644, -0.03141643, -0.03141642,\n",
       "       -0.03141642, -0.03141641, -0.0314164 , -0.0314164 , -0.03141639,\n",
       "       -0.03141638, -0.03141638, -0.03141637, -0.03141636, -0.03141635,\n",
       "       -0.03141634, -0.03141634, -0.03141633, -0.03141632, -0.03141631,\n",
       "       -0.0314163 , -0.03141628, -0.03141627, -0.03141626, -0.03141624,\n",
       "       -0.03141623, -0.03141621, -0.03141619, -0.03141617, -0.03141614,\n",
       "       -0.03141612, -0.03141608, -0.03141605, -0.031416  , -0.03141595,\n",
       "       -0.03141589, -0.03141581, -0.03141571, -0.03141558, -0.0314154 ,\n",
       "       -0.03141512, -0.03141466, -0.03141374,  6.25177435, -0.03142192])"
      ]
     },
     "execution_count": 27,
     "metadata": {},
     "output_type": "execute_result"
    }
   ],
   "source": [
    "pomegas-pomegasWH"
   ]
  },
  {
   "cell_type": "code",
   "execution_count": 41,
   "metadata": {},
   "outputs": [
    {
     "data": {
      "text/plain": [
       "array([ 0.        ,  0.15705744,  0.25130774,  0.34555881,  0.43981034,\n",
       "        0.53406215,  0.62831412,  0.72256619,  0.81681831,  0.91107045,\n",
       "        1.00532258,  1.09957469,  1.19382675,  1.28807875,  1.38233071,\n",
       "        1.47658263,  1.57083454,  1.6650865 ,  1.75933858,  1.85359087,\n",
       "        1.94784351,  2.04209669,  2.13635063,  2.23060565,  2.32486221,\n",
       "        2.41912096,  2.51338287,  2.60764958,  2.70192392,  2.79621155,\n",
       "        2.8905256 ,  2.98490532,  3.07954682,  0.06048213,  0.15649789,\n",
       "        0.2510006 ,  0.34535237,  0.43965793,  0.53394344,  0.62821853,\n",
       "        0.72248755,  0.81675273,  0.91101535,  1.00527618,  1.09953571,\n",
       "        1.19379426,  1.28805208,  1.38230936,  1.47656624,  1.57082288,\n",
       "        1.66507941,  1.75933602,  1.85359288,  1.94785024,  2.04210837,\n",
       "        2.13636766,  2.2306286 ,  2.32489189,  2.41915853,  2.51343008,\n",
       "        2.60770903,  2.70199987,  2.79631148,  2.89066449,  2.98512067,\n",
       "        3.07998864, -1.6659159 ,  0.15615497,  0.25080389,  0.345215  ,\n",
       "        0.43955319,  0.53385967,  0.62814961,  0.72242988,  0.81670404,\n",
       "        0.91097413,  1.00524139,  1.09950663,  1.19377039,  1.28803308,\n",
       "        1.38229501,  1.47655645,  1.57081763,  1.66507881,  1.75934022,\n",
       "        1.85360218,  1.94786505,  2.04212925,  2.13639539,  2.23066424,\n",
       "        2.3249369 ,  2.41921499,  2.51350101,  2.6077991 ,  2.70211665,\n",
       "        2.79646837,  2.89088843,  2.98547895,  3.08074917, -1.66415842])"
      ]
     },
     "execution_count": 41,
     "metadata": {},
     "output_type": "execute_result"
    }
   ],
   "source": [
    "pomegasWH"
   ]
  },
  {
   "cell_type": "code",
   "execution_count": 42,
   "metadata": {},
   "outputs": [
    {
     "data": {
      "text/plain": [
       "array([ 0.        ,  0.12564124,  0.21989138,  0.31414234,  0.4083938 ,\n",
       "        0.50264557,  0.59689753,  0.69114959,  0.78540172,  0.87965387,\n",
       "        0.97390601,  1.06815813,  1.1624102 ,  1.25666222,  1.35091419,\n",
       "        1.44516612,  1.53941805,  1.63367003,  1.72792212,  1.82217443,\n",
       "        1.91642709,  2.01068028,  2.10493424,  2.19918929,  2.29344588,\n",
       "        2.38770466,  2.48196661,  2.57623337,  2.67050778,  2.76479551,\n",
       "        2.85910972,  2.95348976,  3.0481322 ,  0.02906005,  0.12507999,\n",
       "        0.2195833 ,  0.31393532,  0.40824101,  0.50252661,  0.59680176,\n",
       "        0.69107081,  0.78533603,  0.87959868,  0.97385953,  1.06811907,\n",
       "        1.16237764,  1.25663548,  1.35089277,  1.44514966,  1.53940631,\n",
       "        1.63366286,  1.72791948,  1.82217636,  1.91643373,  2.01069188,\n",
       "        2.10495119,  2.19921215,  2.29347547,  2.38774214,  2.48201372,\n",
       "        2.57629272,  2.67058363,  2.76489533,  2.85924849,  2.95370496,\n",
       "        3.04857383, -1.69278292,  0.12473707,  0.21938656,  0.3137979 ,\n",
       "        0.40813622,  0.50244278,  0.59673277,  0.69101307,  0.78528727,\n",
       "        0.87955739,  0.97382467,  1.06808993,  1.16235371,  1.25661642,\n",
       "        1.35087837,  1.44513982,  1.53940102,  1.63366221,  1.72792364,\n",
       "        1.82218562,  1.9164485 ,  2.01071272,  2.10497887,  2.19924773,\n",
       "        2.29352041,  2.38779851,  2.48208454,  2.57638263,  2.67070018,\n",
       "        2.76505187,  2.85947189,  2.9540624 ,  3.04933286, -1.68877567])"
      ]
     },
     "execution_count": 42,
     "metadata": {},
     "output_type": "execute_result"
    }
   ],
   "source": [
    "pomegas"
   ]
  },
  {
   "cell_type": "code",
   "execution_count": null,
   "metadata": {},
   "outputs": [],
   "source": []
  }
 ],
 "metadata": {
  "kernelspec": {
   "display_name": "Python 3",
   "language": "python",
   "name": "python3"
  },
  "language_info": {
   "codemirror_mode": {
    "name": "ipython",
    "version": 3
   },
   "file_extension": ".py",
   "mimetype": "text/x-python",
   "name": "python",
   "nbconvert_exporter": "python",
   "pygments_lexer": "ipython3",
   "version": "3.7.1"
  }
 },
 "nbformat": 4,
 "nbformat_minor": 2
}
